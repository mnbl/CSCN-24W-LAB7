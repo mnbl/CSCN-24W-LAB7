{
 "cells": [
  {
   "cell_type": "markdown",
   "id": "3cbfc257-9e95-4b12-84d7-24fc5b42c366",
   "metadata": {},
   "source": [
    "# CSCN8010 Lab 7 - Performance Metrics for Classification Problems"
   ]
  },
  {
   "cell_type": "markdown",
   "id": "2359cbf6-943b-4448-950c-a47ad683417f",
   "metadata": {},
   "source": [
    "#### This lab aims to create a model that can accurately classify handwritten digits from the MNIST dataset. We'll start by looking at the data and understanding what it looks like using pictures and graphs. Then, we'll choose how many different digits we want our model to recognize, maybe from 3 to 10. After that, we'll split our data into groups for training, checking, and final testing. Next, we'll pick a type of model and teach it how to recognize the digits using the training data. Once trained, we'll check how well it's doing by asking it to classify some digits it hasn't seen before. We'll measure how many it gets right, how many it gets wrong, and some other important things like how sure it is about its answers. We'll also try to make it better at recognizing certain digits without making it learn everything all over again. Finally, we'll give it a big test to see how good it really is at recognizing digits in general. By doing all this, we hope to make a model that can be helpful in understanding and classifying handwritten digits effectively."
   ]
  },
  {
   "cell_type": "markdown",
   "id": "158a02e7-5bf9-471c-a770-e9f03b2846d4",
   "metadata": {},
   "source": [
    "#### The MNIST dataset is a collection of 70,000 28x28 pixel grayscale images of handwritten digits (0-9), split into 60,000 training images and 10,000 testing images. It's commonly used to benchmark machine learning algorithms and serves as a beginner-friendly resource for learning about image classification."
   ]
  },
  {
   "cell_type": "raw",
   "id": "9e15d5b6-f68b-4f71-a687-9de254870253",
   "metadata": {},
   "source": []
  },
  {
   "cell_type": "markdown",
   "id": "682aa3d4-c347-49f3-999b-cbfc1a18c14a",
   "metadata": {},
   "source": [
    "#### Importing libraries"
   ]
  },
  {
   "cell_type": "code",
   "execution_count": 1,
   "id": "ba41c70e-2d27-4ea4-9af7-c2337281e6da",
   "metadata": {},
   "outputs": [],
   "source": [
    "import numpy as np\n",
    "import pandas as pd\n",
    "import matplotlib.pyplot as plt\n",
    "import seaborn as sns\n",
    "from sklearn.datasets import fetch_openml\n",
    "from sklearn.model_selection import train_test_split\n",
    "from sklearn.svm import SVC\n",
    "from sklearn.metrics import accuracy_score, classification_report, confusion_matrix\n",
    "from sklearn.preprocessing import label_binarize\n",
    "from sklearn.metrics import precision_recall_curve, auc\n",
    "\n",
    "import warnings\n",
    "warnings.filterwarnings(\"ignore\")"
   ]
  },
  {
   "cell_type": "raw",
   "id": "fbecf82e-fd1b-425c-aa2f-93261d848085",
   "metadata": {},
   "source": []
  },
  {
   "cell_type": "markdown",
   "id": "d7fd27e6-f7ed-4070-a500-ff65775118c5",
   "metadata": {},
   "source": [
    "### Loading and Exploring MNIST data"
   ]
  },
  {
   "cell_type": "markdown",
   "id": "e6b29923-a9ef-48e8-9dd2-f4b483fc9122",
   "metadata": {},
   "source": [
    "#### We will be using fetch_openml() method to download data from openml.org. Using this notebook as refrernce: [Performance Metrics for Classification](https://github.com/CSCN8010/CSCN8010/blob/main/class_notebooks/classification-performance-metrics/performance_metrics_for_classification.ipynb)"
   ]
  },
  {
   "cell_type": "code",
   "execution_count": 2,
   "id": "863f2846-8985-4938-93ce-71114feaf164",
   "metadata": {},
   "outputs": [
    {
     "data": {
      "text/plain": [
       "['data',\n",
       " 'target',\n",
       " 'frame',\n",
       " 'categories',\n",
       " 'feature_names',\n",
       " 'target_names',\n",
       " 'DESCR',\n",
       " 'details',\n",
       " 'url']"
      ]
     },
     "execution_count": 2,
     "metadata": {},
     "output_type": "execute_result"
    }
   ],
   "source": [
    "# Downloading dataset\n",
    "mnist = fetch_openml('mnist_784', as_frame=False, parser='auto')\n",
    "list(mnist)"
   ]
  },
  {
   "cell_type": "raw",
   "id": "223f25ab-2a24-4781-b254-9fc026ac6e4a",
   "metadata": {},
   "source": []
  },
  {
   "cell_type": "code",
   "execution_count": 3,
   "id": "bdff772c-7904-405a-8f75-e781e84c228f",
   "metadata": {},
   "outputs": [
    {
     "data": {
      "text/plain": [
       "(70000, 784)"
      ]
     },
     "execution_count": 3,
     "metadata": {},
     "output_type": "execute_result"
    }
   ],
   "source": [
    "# Checking shape of data\n",
    "mnist.data.shape"
   ]
  },
  {
   "cell_type": "raw",
   "id": "c890e867-2f2a-46bb-a785-a334aff3519e",
   "metadata": {},
   "source": []
  },
  {
   "cell_type": "code",
   "execution_count": 4,
   "id": "1a930352-d533-41e9-b14e-6037c83cc0c1",
   "metadata": {},
   "outputs": [
    {
     "data": {
      "text/plain": [
       "(70000,)"
      ]
     },
     "execution_count": 4,
     "metadata": {},
     "output_type": "execute_result"
    }
   ],
   "source": [
    "# Cheking shape of target\n",
    "mnist.target.shape"
   ]
  },
  {
   "cell_type": "raw",
   "id": "88f20b8b-9510-4676-b303-45fb24ff338f",
   "metadata": {},
   "source": []
  },
  {
   "cell_type": "code",
   "execution_count": 5,
   "id": "e387194a-7201-4411-aabe-17e89a81d8d7",
   "metadata": {},
   "outputs": [
    {
     "name": "stdout",
     "output_type": "stream",
     "text": [
      "['pixel1', 'pixel2', 'pixel3', 'pixel4', 'pixel5', 'pixel6', 'pixel7', 'pixel8', 'pixel9', 'pixel10', 'pixel11', 'pixel12', 'pixel13', 'pixel14', 'pixel15', 'pixel16', 'pixel17', 'pixel18', 'pixel19', 'pixel20', 'pixel21', 'pixel22', 'pixel23', 'pixel24', 'pixel25', 'pixel26', 'pixel27', 'pixel28', 'pixel29', 'pixel30', 'pixel31', 'pixel32', 'pixel33', 'pixel34', 'pixel35', 'pixel36', 'pixel37', 'pixel38', 'pixel39', 'pixel40', 'pixel41', 'pixel42', 'pixel43', 'pixel44', 'pixel45', 'pixel46', 'pixel47', 'pixel48', 'pixel49', 'pixel50', 'pixel51', 'pixel52', 'pixel53', 'pixel54', 'pixel55', 'pixel56', 'pixel57', 'pixel58', 'pixel59', 'pixel60', 'pixel61', 'pixel62', 'pixel63', 'pixel64', 'pixel65', 'pixel66', 'pixel67', 'pixel68', 'pixel69', 'pixel70', 'pixel71', 'pixel72', 'pixel73', 'pixel74', 'pixel75', 'pixel76', 'pixel77', 'pixel78', 'pixel79', 'pixel80', 'pixel81', 'pixel82', 'pixel83', 'pixel84', 'pixel85', 'pixel86', 'pixel87', 'pixel88', 'pixel89', 'pixel90', 'pixel91', 'pixel92', 'pixel93', 'pixel94', 'pixel95', 'pixel96', 'pixel97', 'pixel98', 'pixel99', 'pixel100', 'pixel101', 'pixel102', 'pixel103', 'pixel104', 'pixel105', 'pixel106', 'pixel107', 'pixel108', 'pixel109', 'pixel110', 'pixel111', 'pixel112', 'pixel113', 'pixel114', 'pixel115', 'pixel116', 'pixel117', 'pixel118', 'pixel119', 'pixel120', 'pixel121', 'pixel122', 'pixel123', 'pixel124', 'pixel125', 'pixel126', 'pixel127', 'pixel128', 'pixel129', 'pixel130', 'pixel131', 'pixel132', 'pixel133', 'pixel134', 'pixel135', 'pixel136', 'pixel137', 'pixel138', 'pixel139', 'pixel140', 'pixel141', 'pixel142', 'pixel143', 'pixel144', 'pixel145', 'pixel146', 'pixel147', 'pixel148', 'pixel149', 'pixel150', 'pixel151', 'pixel152', 'pixel153', 'pixel154', 'pixel155', 'pixel156', 'pixel157', 'pixel158', 'pixel159', 'pixel160', 'pixel161', 'pixel162', 'pixel163', 'pixel164', 'pixel165', 'pixel166', 'pixel167', 'pixel168', 'pixel169', 'pixel170', 'pixel171', 'pixel172', 'pixel173', 'pixel174', 'pixel175', 'pixel176', 'pixel177', 'pixel178', 'pixel179', 'pixel180', 'pixel181', 'pixel182', 'pixel183', 'pixel184', 'pixel185', 'pixel186', 'pixel187', 'pixel188', 'pixel189', 'pixel190', 'pixel191', 'pixel192', 'pixel193', 'pixel194', 'pixel195', 'pixel196', 'pixel197', 'pixel198', 'pixel199', 'pixel200', 'pixel201', 'pixel202', 'pixel203', 'pixel204', 'pixel205', 'pixel206', 'pixel207', 'pixel208', 'pixel209', 'pixel210', 'pixel211', 'pixel212', 'pixel213', 'pixel214', 'pixel215', 'pixel216', 'pixel217', 'pixel218', 'pixel219', 'pixel220', 'pixel221', 'pixel222', 'pixel223', 'pixel224', 'pixel225', 'pixel226', 'pixel227', 'pixel228', 'pixel229', 'pixel230', 'pixel231', 'pixel232', 'pixel233', 'pixel234', 'pixel235', 'pixel236', 'pixel237', 'pixel238', 'pixel239', 'pixel240', 'pixel241', 'pixel242', 'pixel243', 'pixel244', 'pixel245', 'pixel246', 'pixel247', 'pixel248', 'pixel249', 'pixel250', 'pixel251', 'pixel252', 'pixel253', 'pixel254', 'pixel255', 'pixel256', 'pixel257', 'pixel258', 'pixel259', 'pixel260', 'pixel261', 'pixel262', 'pixel263', 'pixel264', 'pixel265', 'pixel266', 'pixel267', 'pixel268', 'pixel269', 'pixel270', 'pixel271', 'pixel272', 'pixel273', 'pixel274', 'pixel275', 'pixel276', 'pixel277', 'pixel278', 'pixel279', 'pixel280', 'pixel281', 'pixel282', 'pixel283', 'pixel284', 'pixel285', 'pixel286', 'pixel287', 'pixel288', 'pixel289', 'pixel290', 'pixel291', 'pixel292', 'pixel293', 'pixel294', 'pixel295', 'pixel296', 'pixel297', 'pixel298', 'pixel299', 'pixel300', 'pixel301', 'pixel302', 'pixel303', 'pixel304', 'pixel305', 'pixel306', 'pixel307', 'pixel308', 'pixel309', 'pixel310', 'pixel311', 'pixel312', 'pixel313', 'pixel314', 'pixel315', 'pixel316', 'pixel317', 'pixel318', 'pixel319', 'pixel320', 'pixel321', 'pixel322', 'pixel323', 'pixel324', 'pixel325', 'pixel326', 'pixel327', 'pixel328', 'pixel329', 'pixel330', 'pixel331', 'pixel332', 'pixel333', 'pixel334', 'pixel335', 'pixel336', 'pixel337', 'pixel338', 'pixel339', 'pixel340', 'pixel341', 'pixel342', 'pixel343', 'pixel344', 'pixel345', 'pixel346', 'pixel347', 'pixel348', 'pixel349', 'pixel350', 'pixel351', 'pixel352', 'pixel353', 'pixel354', 'pixel355', 'pixel356', 'pixel357', 'pixel358', 'pixel359', 'pixel360', 'pixel361', 'pixel362', 'pixel363', 'pixel364', 'pixel365', 'pixel366', 'pixel367', 'pixel368', 'pixel369', 'pixel370', 'pixel371', 'pixel372', 'pixel373', 'pixel374', 'pixel375', 'pixel376', 'pixel377', 'pixel378', 'pixel379', 'pixel380', 'pixel381', 'pixel382', 'pixel383', 'pixel384', 'pixel385', 'pixel386', 'pixel387', 'pixel388', 'pixel389', 'pixel390', 'pixel391', 'pixel392', 'pixel393', 'pixel394', 'pixel395', 'pixel396', 'pixel397', 'pixel398', 'pixel399', 'pixel400', 'pixel401', 'pixel402', 'pixel403', 'pixel404', 'pixel405', 'pixel406', 'pixel407', 'pixel408', 'pixel409', 'pixel410', 'pixel411', 'pixel412', 'pixel413', 'pixel414', 'pixel415', 'pixel416', 'pixel417', 'pixel418', 'pixel419', 'pixel420', 'pixel421', 'pixel422', 'pixel423', 'pixel424', 'pixel425', 'pixel426', 'pixel427', 'pixel428', 'pixel429', 'pixel430', 'pixel431', 'pixel432', 'pixel433', 'pixel434', 'pixel435', 'pixel436', 'pixel437', 'pixel438', 'pixel439', 'pixel440', 'pixel441', 'pixel442', 'pixel443', 'pixel444', 'pixel445', 'pixel446', 'pixel447', 'pixel448', 'pixel449', 'pixel450', 'pixel451', 'pixel452', 'pixel453', 'pixel454', 'pixel455', 'pixel456', 'pixel457', 'pixel458', 'pixel459', 'pixel460', 'pixel461', 'pixel462', 'pixel463', 'pixel464', 'pixel465', 'pixel466', 'pixel467', 'pixel468', 'pixel469', 'pixel470', 'pixel471', 'pixel472', 'pixel473', 'pixel474', 'pixel475', 'pixel476', 'pixel477', 'pixel478', 'pixel479', 'pixel480', 'pixel481', 'pixel482', 'pixel483', 'pixel484', 'pixel485', 'pixel486', 'pixel487', 'pixel488', 'pixel489', 'pixel490', 'pixel491', 'pixel492', 'pixel493', 'pixel494', 'pixel495', 'pixel496', 'pixel497', 'pixel498', 'pixel499', 'pixel500', 'pixel501', 'pixel502', 'pixel503', 'pixel504', 'pixel505', 'pixel506', 'pixel507', 'pixel508', 'pixel509', 'pixel510', 'pixel511', 'pixel512', 'pixel513', 'pixel514', 'pixel515', 'pixel516', 'pixel517', 'pixel518', 'pixel519', 'pixel520', 'pixel521', 'pixel522', 'pixel523', 'pixel524', 'pixel525', 'pixel526', 'pixel527', 'pixel528', 'pixel529', 'pixel530', 'pixel531', 'pixel532', 'pixel533', 'pixel534', 'pixel535', 'pixel536', 'pixel537', 'pixel538', 'pixel539', 'pixel540', 'pixel541', 'pixel542', 'pixel543', 'pixel544', 'pixel545', 'pixel546', 'pixel547', 'pixel548', 'pixel549', 'pixel550', 'pixel551', 'pixel552', 'pixel553', 'pixel554', 'pixel555', 'pixel556', 'pixel557', 'pixel558', 'pixel559', 'pixel560', 'pixel561', 'pixel562', 'pixel563', 'pixel564', 'pixel565', 'pixel566', 'pixel567', 'pixel568', 'pixel569', 'pixel570', 'pixel571', 'pixel572', 'pixel573', 'pixel574', 'pixel575', 'pixel576', 'pixel577', 'pixel578', 'pixel579', 'pixel580', 'pixel581', 'pixel582', 'pixel583', 'pixel584', 'pixel585', 'pixel586', 'pixel587', 'pixel588', 'pixel589', 'pixel590', 'pixel591', 'pixel592', 'pixel593', 'pixel594', 'pixel595', 'pixel596', 'pixel597', 'pixel598', 'pixel599', 'pixel600', 'pixel601', 'pixel602', 'pixel603', 'pixel604', 'pixel605', 'pixel606', 'pixel607', 'pixel608', 'pixel609', 'pixel610', 'pixel611', 'pixel612', 'pixel613', 'pixel614', 'pixel615', 'pixel616', 'pixel617', 'pixel618', 'pixel619', 'pixel620', 'pixel621', 'pixel622', 'pixel623', 'pixel624', 'pixel625', 'pixel626', 'pixel627', 'pixel628', 'pixel629', 'pixel630', 'pixel631', 'pixel632', 'pixel633', 'pixel634', 'pixel635', 'pixel636', 'pixel637', 'pixel638', 'pixel639', 'pixel640', 'pixel641', 'pixel642', 'pixel643', 'pixel644', 'pixel645', 'pixel646', 'pixel647', 'pixel648', 'pixel649', 'pixel650', 'pixel651', 'pixel652', 'pixel653', 'pixel654', 'pixel655', 'pixel656', 'pixel657', 'pixel658', 'pixel659', 'pixel660', 'pixel661', 'pixel662', 'pixel663', 'pixel664', 'pixel665', 'pixel666', 'pixel667', 'pixel668', 'pixel669', 'pixel670', 'pixel671', 'pixel672', 'pixel673', 'pixel674', 'pixel675', 'pixel676', 'pixel677', 'pixel678', 'pixel679', 'pixel680', 'pixel681', 'pixel682', 'pixel683', 'pixel684', 'pixel685', 'pixel686', 'pixel687', 'pixel688', 'pixel689', 'pixel690', 'pixel691', 'pixel692', 'pixel693', 'pixel694', 'pixel695', 'pixel696', 'pixel697', 'pixel698', 'pixel699', 'pixel700', 'pixel701', 'pixel702', 'pixel703', 'pixel704', 'pixel705', 'pixel706', 'pixel707', 'pixel708', 'pixel709', 'pixel710', 'pixel711', 'pixel712', 'pixel713', 'pixel714', 'pixel715', 'pixel716', 'pixel717', 'pixel718', 'pixel719', 'pixel720', 'pixel721', 'pixel722', 'pixel723', 'pixel724', 'pixel725', 'pixel726', 'pixel727', 'pixel728', 'pixel729', 'pixel730', 'pixel731', 'pixel732', 'pixel733', 'pixel734', 'pixel735', 'pixel736', 'pixel737', 'pixel738', 'pixel739', 'pixel740', 'pixel741', 'pixel742', 'pixel743', 'pixel744', 'pixel745', 'pixel746', 'pixel747', 'pixel748', 'pixel749', 'pixel750', 'pixel751', 'pixel752', 'pixel753', 'pixel754', 'pixel755', 'pixel756', 'pixel757', 'pixel758', 'pixel759', 'pixel760', 'pixel761', 'pixel762', 'pixel763', 'pixel764', 'pixel765', 'pixel766', 'pixel767', 'pixel768', 'pixel769', 'pixel770', 'pixel771', 'pixel772', 'pixel773', 'pixel774', 'pixel775', 'pixel776', 'pixel777', 'pixel778', 'pixel779', 'pixel780', 'pixel781', 'pixel782', 'pixel783', 'pixel784']\n"
     ]
    }
   ],
   "source": [
    "# Printing feature names\n",
    "print(mnist.feature_names)"
   ]
  },
  {
   "cell_type": "markdown",
   "id": "9e5c6456-74b8-4890-a0e6-ca19a44f0d7d",
   "metadata": {},
   "source": [
    "#### If we are creating a dataframe, we can use these feature_names as column names for that dataframe using:\n",
    "- df=pd.DataFrame(mnist.data, columns = mnist.feature_names)"
   ]
  },
  {
   "cell_type": "raw",
   "id": "d8c60d6c-a1f9-4779-b5e1-9a3c24c739b3",
   "metadata": {},
   "source": []
  },
  {
   "cell_type": "code",
   "execution_count": 6,
   "id": "b3fcbe1d-13c3-4b2f-8ca1-57a775873341",
   "metadata": {},
   "outputs": [
    {
     "data": {
      "text/plain": [
       "{'id': '554',\n",
       " 'name': 'mnist_784',\n",
       " 'version': '1',\n",
       " 'description_version': '2',\n",
       " 'format': 'ARFF',\n",
       " 'creator': ['Yann LeCun', 'Corinna Cortes', 'Christopher J.C. Burges'],\n",
       " 'upload_date': '2014-09-29T03:28:38',\n",
       " 'language': 'English',\n",
       " 'licence': 'Public',\n",
       " 'url': 'https://api.openml.org/data/v1/download/52667/mnist_784.arff',\n",
       " 'parquet_url': 'https://openml1.win.tue.nl/datasets/0000/0554/dataset_554.pq',\n",
       " 'file_id': '52667',\n",
       " 'default_target_attribute': 'class',\n",
       " 'tag': ['AzurePilot',\n",
       "  'OpenML-CC18',\n",
       "  'OpenML100',\n",
       "  'study_1',\n",
       "  'study_123',\n",
       "  'study_41',\n",
       "  'study_99',\n",
       "  'vision'],\n",
       " 'visibility': 'public',\n",
       " 'minio_url': 'https://openml1.win.tue.nl/datasets/0000/0554/dataset_554.pq',\n",
       " 'status': 'active',\n",
       " 'processing_date': '2020-11-20 20:12:09',\n",
       " 'md5_checksum': '0298d579eb1b86163de7723944c7e495'}"
      ]
     },
     "execution_count": 6,
     "metadata": {},
     "output_type": "execute_result"
    }
   ],
   "source": [
    "# Printing mnist data details\n",
    "mnist.details"
   ]
  },
  {
   "cell_type": "markdown",
   "id": "2372b282-1daa-42d8-bc91-a662574d6693",
   "metadata": {},
   "source": [
    "> mnist.details shows details about version, certificate and other relavant details about mnist dataset."
   ]
  },
  {
   "cell_type": "raw",
   "id": "80b9be0d-6d05-477e-aaa1-fbdaeedfa56b",
   "metadata": {},
   "source": []
  },
  {
   "cell_type": "code",
   "execution_count": 7,
   "id": "54e628af-1e79-4973-adfa-8bb7b235e338",
   "metadata": {},
   "outputs": [
    {
     "name": "stdout",
     "output_type": "stream",
     "text": [
      "**Author**: Yann LeCun, Corinna Cortes, Christopher J.C. Burges  \n",
      "**Source**: [MNIST Website](http://yann.lecun.com/exdb/mnist/) - Date unknown  \n",
      "**Please cite**:  \n",
      "\n",
      "The MNIST database of handwritten digits with 784 features, raw data available at: http://yann.lecun.com/exdb/mnist/. It can be split in a training set of the first 60,000 examples, and a test set of 10,000 examples  \n",
      "\n",
      "It is a subset of a larger set available from NIST. The digits have been size-normalized and centered in a fixed-size image. It is a good database for people who want to try learning techniques and pattern recognition methods on real-world data while spending minimal efforts on preprocessing and formatting. The original black and white (bilevel) images from NIST were size normalized to fit in a 20x20 pixel box while preserving their aspect ratio. The resulting images contain grey levels as a result of the anti-aliasing technique used by the normalization algorithm. the images were centered in a 28x28 image by computing the center of mass of the pixels, and translating the image so as to position this point at the center of the 28x28 field.  \n",
      "\n",
      "With some classification methods (particularly template-based methods, such as SVM and K-nearest neighbors), the error rate improves when the digits are centered by bounding box rather than center of mass. If you do this kind of pre-processing, you should report it in your publications. The MNIST database was constructed from NIST's NIST originally designated SD-3 as their training set and SD-1 as their test set. However, SD-3 is much cleaner and easier to recognize than SD-1. The reason for this can be found on the fact that SD-3 was collected among Census Bureau employees, while SD-1 was collected among high-school students. Drawing sensible conclusions from learning experiments requires that the result be independent of the choice of training set and test among the complete set of samples. Therefore it was necessary to build a new database by mixing NIST's datasets.  \n",
      "\n",
      "The MNIST training set is composed of 30,000 patterns from SD-3 and 30,000 patterns from SD-1. Our test set was composed of 5,000 patterns from SD-3 and 5,000 patterns from SD-1. The 60,000 pattern training set contained examples from approximately 250 writers. We made sure that the sets of writers of the training set and test set were disjoint. SD-1 contains 58,527 digit images written by 500 different writers. In contrast to SD-3, where blocks of data from each writer appeared in sequence, the data in SD-1 is scrambled. Writer identities for SD-1 is available and we used this information to unscramble the writers. We then split SD-1 in two: characters written by the first 250 writers went into our new training set. The remaining 250 writers were placed in our test set. Thus we had two sets with nearly 30,000 examples each. The new training set was completed with enough examples from SD-3, starting at pattern # 0, to make a full set of 60,000 training patterns. Similarly, the new test set was completed with SD-3 examples starting at pattern # 35,000 to make a full set with 60,000 test patterns. Only a subset of 10,000 test images (5,000 from SD-1 and 5,000 from SD-3) is available on this site. The full 60,000 sample training set is available.\n",
      "\n",
      "Downloaded from openml.org.\n"
     ]
    }
   ],
   "source": [
    "# Printing description of MNIST data\n",
    "print(mnist.DESCR)"
   ]
  },
  {
   "cell_type": "markdown",
   "id": "0c21a2a5-b1ad-46db-b5fb-fc8661f8d6eb",
   "metadata": {},
   "source": [
    "> Here we get a note from collaborators of MNIST dataset about the dataset"
   ]
  },
  {
   "cell_type": "raw",
   "id": "532a1143-fc95-4833-91df-1d7fcabec1e4",
   "metadata": {},
   "source": []
  },
  {
   "cell_type": "markdown",
   "id": "9c20ff6c-e8a7-47e9-aca3-1807b0a8b8e8",
   "metadata": {},
   "source": [
    "#### Plotting the 9 random digits from dataset"
   ]
  },
  {
   "cell_type": "markdown",
   "id": "7234a657-cc56-4b1d-9ac3-adadc28fd577",
   "metadata": {},
   "source": [
    "We will be plotting 16 random digits from the MNIST dataset. Using this notebook as refrernce: [Performance Metrics for Classification](https://github.com/CSCN8010/CSCN8010/blob/main/class_notebooks/classification-performance-metrics/performance_metrics_for_classification.ipynb)"
   ]
  },
  {
   "cell_type": "code",
   "execution_count": 8,
   "id": "4896fd6c-2e06-4a0e-a3a1-bad07c48602c",
   "metadata": {},
   "outputs": [
    {
     "data": {
      "image/png": "[encoded data removed]",
      "text/plain": [
       "<Figure size 1200x1200 with 16 Axes>"
      ]
     },
     "metadata": {},
     "output_type": "display_data"
    }
   ],
   "source": [
    "# Picking some random samples\n",
    "random_integers = np.random.randint(1, mnist.data.shape[0], size=16)\n",
    "\n",
    "fig, axes = plt.subplots(4, 4, figsize=(12, 12))\n",
    "for i, ax in enumerate(axes.flat):\n",
    "    ax.imshow(mnist.data[i].reshape(28, 28), cmap='gray')\n",
    "    ax.set_title(f\"Image Number: {mnist.target[i]}\")\n",
    "    ax.axis('off')\n",
    "\n",
    "plt.show()"
   ]
  },
  {
   "cell_type": "raw",
   "id": "239066b1-4e57-41f1-8352-122c74a2826d",
   "metadata": {},
   "source": []
  },
  {
   "cell_type": "markdown",
   "id": "9afbe9c1-521c-4a67-8717-d7bdf20c5628",
   "metadata": {},
   "source": [
    "## Data Preprocessing"
   ]
  },
  {
   "cell_type": "raw",
   "id": "bbe72de1-8cd2-4cf0-8c0b-52ed55f8b838",
   "metadata": {},
   "source": []
  },
  {
   "cell_type": "markdown",
   "id": "f8154d3d-c1f4-4ea2-9fa2-9e61827903fa",
   "metadata": {},
   "source": [
    "Out taks requires us to choose the number of classes you want to have: anything between 3 to 10. I am going forward with all 10 available classes instead of picking lower classes. It will be requiring highter coumputing power as compared to picking 3 classes for example."
   ]
  },
  {
   "cell_type": "markdown",
   "id": "2045709d-3a01-479d-8ad2-b1afc5600a8e",
   "metadata": {},
   "source": [
    "There are other ways to split the classes. Such as:\n",
    "- Picking subset of existing data. [Only picking some of the features]\n",
    "- Spliting in Odd even [Although for this task we need more than 2 taks]\n",
    "- Taking non 0 target in set of 3. [Have to transform dataset]\n",
    "- Set of 2 consecutive targets giving us 5 classes [Have to transform dataset]"
   ]
  },
  {
   "cell_type": "raw",
   "id": "e25ad8bc-5d52-418f-ba5c-0dcd0bff63b4",
   "metadata": {},
   "source": []
  },
  {
   "cell_type": "markdown",
   "id": "121396e7-4791-47d0-9ce7-a04541cb35d0",
   "metadata": {},
   "source": [
    "#### Scaling and determining independent and dependent variables"
   ]
  },
  {
   "cell_type": "markdown",
   "id": "84061a2d-6bfd-41a9-8a10-a18b29179361",
   "metadata": {},
   "source": [
    "Here we will preprocess our independent variable and convert it's values in range 0-1 by dividing values by 255.\n",
    "- Reason of dividing by 255: The data in MNIST data stores pixel values of handwritten digits with range 0-255, 0 being white and 255 black. Rest of the values denotes different shades such as gray as can be seen in plot above."
   ]
  },
  {
   "cell_type": "code",
   "execution_count": 9,
   "id": "9ec0c4e4-a943-4f4d-87b1-cccae5fa55ed",
   "metadata": {},
   "outputs": [
    {
     "name": "stdout",
     "output_type": "stream",
     "text": [
      "\n",
      "Independent Variable:\n",
      "\n",
      "Original:\n",
      " [  0   0   0   0   0   0   0   0   0   0   0   0   0   0   0   0   0   0\n",
      "   0   0   0   0   0   0   0   0   0   0   0   0   0   0   0   0   0   0\n",
      "   0   0   0   0   0   0   0   0   0   0   0   0   0   0   0   0   0   0\n",
      "   0   0   0   0   0   0   0   0   0   0   0   0   0   0   0   0   0   0\n",
      "   0   0   0   0   0   0   0   0   0   0   0   0   0   0   0   0   0   0\n",
      "   0   0   0   0   0   0   0   0   0   0   0   0   0   0   0   0   0   0\n",
      "   0   0   0   0   0   0   0   0   0   0   0   0   0   0   0   0   0   0\n",
      "   0   0   0   0   0   0   0   0   0   0   0   0   0   0   0   0   0   0\n",
      "   0   0   0   0   0   0   0   0   3  18  18  18 126 136 175  26 166 255\n",
      " 247 127   0   0   0   0   0   0   0   0   0   0   0   0  30  36  94 154\n",
      " 170 253 253 253 253 253 225 172 253 242 195  64   0   0   0   0   0   0\n",
      "   0   0   0   0   0  49 238 253 253 253 253 253 253 253 253 251  93  82\n",
      "  82  56  39   0   0   0   0   0   0   0   0   0   0   0   0  18 219 253\n",
      " 253 253 253 253 198 182 247 241   0   0   0   0   0   0   0   0   0   0\n",
      "   0   0   0   0   0   0   0   0  80 156 107 253 253 205  11   0  43 154\n",
      "   0   0   0   0   0   0   0   0   0   0   0   0   0   0   0   0   0   0\n",
      "   0  14   1 154 253  90   0   0   0   0   0   0   0   0   0   0   0   0\n",
      "   0   0   0   0   0   0   0   0   0   0   0   0   0 139 253 190   2   0\n",
      "   0   0   0   0   0   0   0   0   0   0   0   0   0   0   0   0   0   0\n",
      "   0   0   0   0   0  11 190 253  70   0   0   0   0   0   0   0   0   0\n",
      "   0   0   0   0   0   0   0   0   0   0   0   0   0   0   0   0  35 241\n",
      " 225 160 108   1   0   0   0   0   0   0   0   0   0   0   0   0   0   0\n",
      "   0   0   0   0   0   0   0   0   0  81 240 253 253 119  25   0   0   0\n",
      "   0   0   0   0   0   0   0   0   0   0   0   0   0   0   0   0   0   0\n",
      "   0   0  45 186 253 253 150  27   0   0   0   0   0   0   0   0   0   0\n",
      "   0   0   0   0   0   0   0   0   0   0   0   0   0  16  93 252 253 187\n",
      "   0   0   0   0   0   0   0   0   0   0   0   0   0   0   0   0   0   0\n",
      "   0   0   0   0   0   0   0 249 253 249  64   0   0   0   0   0   0   0\n",
      "   0   0   0   0   0   0   0   0   0   0   0   0   0   0  46 130 183 253\n",
      " 253 207   2   0   0   0   0   0   0   0   0   0   0   0   0   0   0   0\n",
      "   0   0   0   0  39 148 229 253 253 253 250 182   0   0   0   0   0   0\n",
      "   0   0   0   0   0   0   0   0   0   0   0   0  24 114 221 253 253 253\n",
      " 253 201  78   0   0   0   0   0   0   0   0   0   0   0   0   0   0   0\n",
      "   0   0  23  66 213 253 253 253 253 198  81   2   0   0   0   0   0   0\n",
      "   0   0   0   0   0   0   0   0   0   0  18 171 219 253 253 253 253 195\n",
      "  80   9   0   0   0   0   0   0   0   0   0   0   0   0   0   0   0   0\n",
      "  55 172 226 253 253 253 253 244 133  11   0   0   0   0   0   0   0   0\n",
      "   0   0   0   0   0   0   0   0   0   0 136 253 253 253 212 135 132  16\n",
      "   0   0   0   0   0   0   0   0   0   0   0   0   0   0   0   0   0   0\n",
      "   0   0   0   0   0   0   0   0   0   0   0   0   0   0   0   0   0   0\n",
      "   0   0   0   0   0   0   0   0   0   0   0   0   0   0   0   0   0   0\n",
      "   0   0   0   0   0   0   0   0   0   0   0   0   0   0   0   0   0   0\n",
      "   0   0   0   0   0   0   0   0   0   0   0   0   0   0   0   0   0   0\n",
      "   0   0   0   0   0   0   0   0   0   0] \n",
      "Scaled:\n",
      " [0.         0.         0.         0.         0.         0.\n",
      " 0.         0.         0.         0.         0.         0.\n",
      " 0.         0.         0.         0.         0.         0.\n",
      " 0.         0.         0.         0.         0.         0.\n",
      " 0.         0.         0.         0.         0.         0.\n",
      " 0.         0.         0.         0.         0.         0.\n",
      " 0.         0.         0.         0.         0.         0.\n",
      " 0.         0.         0.         0.         0.         0.\n",
      " 0.         0.         0.         0.         0.         0.\n",
      " 0.         0.         0.         0.         0.         0.\n",
      " 0.         0.         0.         0.         0.         0.\n",
      " 0.         0.         0.         0.         0.         0.\n",
      " 0.         0.         0.         0.         0.         0.\n",
      " 0.         0.         0.         0.         0.         0.\n",
      " 0.         0.         0.         0.         0.         0.\n",
      " 0.         0.         0.         0.         0.         0.\n",
      " 0.         0.         0.         0.         0.         0.\n",
      " 0.         0.         0.         0.         0.         0.\n",
      " 0.         0.         0.         0.         0.         0.\n",
      " 0.         0.         0.         0.         0.         0.\n",
      " 0.         0.         0.         0.         0.         0.\n",
      " 0.         0.         0.         0.         0.         0.\n",
      " 0.         0.         0.         0.         0.         0.\n",
      " 0.         0.         0.         0.         0.         0.\n",
      " 0.         0.         0.         0.         0.         0.\n",
      " 0.         0.         0.01176471 0.07058824 0.07058824 0.07058824\n",
      " 0.49411765 0.53333336 0.6862745  0.10196079 0.6509804  1.\n",
      " 0.96862745 0.49803922 0.         0.         0.         0.\n",
      " 0.         0.         0.         0.         0.         0.\n",
      " 0.         0.         0.11764706 0.14117648 0.36862746 0.6039216\n",
      " 0.6666667  0.99215686 0.99215686 0.99215686 0.99215686 0.99215686\n",
      " 0.88235295 0.6745098  0.99215686 0.9490196  0.7647059  0.2509804\n",
      " 0.         0.         0.         0.         0.         0.\n",
      " 0.         0.         0.         0.         0.         0.19215687\n",
      " 0.93333334 0.99215686 0.99215686 0.99215686 0.99215686 0.99215686\n",
      " 0.99215686 0.99215686 0.99215686 0.9843137  0.3647059  0.32156864\n",
      " 0.32156864 0.21960784 0.15294118 0.         0.         0.\n",
      " 0.         0.         0.         0.         0.         0.\n",
      " 0.         0.         0.         0.07058824 0.85882354 0.99215686\n",
      " 0.99215686 0.99215686 0.99215686 0.99215686 0.7764706  0.7137255\n",
      " 0.96862745 0.94509804 0.         0.         0.         0.\n",
      " 0.         0.         0.         0.         0.         0.\n",
      " 0.         0.         0.         0.         0.         0.\n",
      " 0.         0.         0.3137255  0.6117647  0.41960785 0.99215686\n",
      " 0.99215686 0.8039216  0.04313726 0.         0.16862746 0.6039216\n",
      " 0.         0.         0.         0.         0.         0.\n",
      " 0.         0.         0.         0.         0.         0.\n",
      " 0.         0.         0.         0.         0.         0.\n",
      " 0.         0.05490196 0.00392157 0.6039216  0.99215686 0.3529412\n",
      " 0.         0.         0.         0.         0.         0.\n",
      " 0.         0.         0.         0.         0.         0.\n",
      " 0.         0.         0.         0.         0.         0.\n",
      " 0.         0.         0.         0.         0.         0.\n",
      " 0.         0.54509807 0.99215686 0.74509805 0.00784314 0.\n",
      " 0.         0.         0.         0.         0.         0.\n",
      " 0.         0.         0.         0.         0.         0.\n",
      " 0.         0.         0.         0.         0.         0.\n",
      " 0.         0.         0.         0.         0.         0.04313726\n",
      " 0.74509805 0.99215686 0.27450982 0.         0.         0.\n",
      " 0.         0.         0.         0.         0.         0.\n",
      " 0.         0.         0.         0.         0.         0.\n",
      " 0.         0.         0.         0.         0.         0.\n",
      " 0.         0.         0.         0.         0.13725491 0.94509804\n",
      " 0.88235295 0.627451   0.42352942 0.00392157 0.         0.\n",
      " 0.         0.         0.         0.         0.         0.\n",
      " 0.         0.         0.         0.         0.         0.\n",
      " 0.         0.         0.         0.         0.         0.\n",
      " 0.         0.         0.         0.31764707 0.9411765  0.99215686\n",
      " 0.99215686 0.46666667 0.09803922 0.         0.         0.\n",
      " 0.         0.         0.         0.         0.         0.\n",
      " 0.         0.         0.         0.         0.         0.\n",
      " 0.         0.         0.         0.         0.         0.\n",
      " 0.         0.         0.1764706  0.7294118  0.99215686 0.99215686\n",
      " 0.5882353  0.10588235 0.         0.         0.         0.\n",
      " 0.         0.         0.         0.         0.         0.\n",
      " 0.         0.         0.         0.         0.         0.\n",
      " 0.         0.         0.         0.         0.         0.\n",
      " 0.         0.0627451  0.3647059  0.9882353  0.99215686 0.73333335\n",
      " 0.         0.         0.         0.         0.         0.\n",
      " 0.         0.         0.         0.         0.         0.\n",
      " 0.         0.         0.         0.         0.         0.\n",
      " 0.         0.         0.         0.         0.         0.\n",
      " 0.         0.9764706  0.99215686 0.9764706  0.2509804  0.\n",
      " 0.         0.         0.         0.         0.         0.\n",
      " 0.         0.         0.         0.         0.         0.\n",
      " 0.         0.         0.         0.         0.         0.\n",
      " 0.         0.         0.18039216 0.50980395 0.7176471  0.99215686\n",
      " 0.99215686 0.8117647  0.00784314 0.         0.         0.\n",
      " 0.         0.         0.         0.         0.         0.\n",
      " 0.         0.         0.         0.         0.         0.\n",
      " 0.         0.         0.         0.         0.15294118 0.5803922\n",
      " 0.8980392  0.99215686 0.99215686 0.99215686 0.98039216 0.7137255\n",
      " 0.         0.         0.         0.         0.         0.\n",
      " 0.         0.         0.         0.         0.         0.\n",
      " 0.         0.         0.         0.         0.         0.\n",
      " 0.09411765 0.44705883 0.8666667  0.99215686 0.99215686 0.99215686\n",
      " 0.99215686 0.7882353  0.30588236 0.         0.         0.\n",
      " 0.         0.         0.         0.         0.         0.\n",
      " 0.         0.         0.         0.         0.         0.\n",
      " 0.         0.         0.09019608 0.25882354 0.8352941  0.99215686\n",
      " 0.99215686 0.99215686 0.99215686 0.7764706  0.31764707 0.00784314\n",
      " 0.         0.         0.         0.         0.         0.\n",
      " 0.         0.         0.         0.         0.         0.\n",
      " 0.         0.         0.         0.         0.07058824 0.67058825\n",
      " 0.85882354 0.99215686 0.99215686 0.99215686 0.99215686 0.7647059\n",
      " 0.3137255  0.03529412 0.         0.         0.         0.\n",
      " 0.         0.         0.         0.         0.         0.\n",
      " 0.         0.         0.         0.         0.         0.\n",
      " 0.21568628 0.6745098  0.8862745  0.99215686 0.99215686 0.99215686\n",
      " 0.99215686 0.95686275 0.52156866 0.04313726 0.         0.\n",
      " 0.         0.         0.         0.         0.         0.\n",
      " 0.         0.         0.         0.         0.         0.\n",
      " 0.         0.         0.         0.         0.53333336 0.99215686\n",
      " 0.99215686 0.99215686 0.83137256 0.5294118  0.5176471  0.0627451\n",
      " 0.         0.         0.         0.         0.         0.\n",
      " 0.         0.         0.         0.         0.         0.\n",
      " 0.         0.         0.         0.         0.         0.\n",
      " 0.         0.         0.         0.         0.         0.\n",
      " 0.         0.         0.         0.         0.         0.\n",
      " 0.         0.         0.         0.         0.         0.\n",
      " 0.         0.         0.         0.         0.         0.\n",
      " 0.         0.         0.         0.         0.         0.\n",
      " 0.         0.         0.         0.         0.         0.\n",
      " 0.         0.         0.         0.         0.         0.\n",
      " 0.         0.         0.         0.         0.         0.\n",
      " 0.         0.         0.         0.         0.         0.\n",
      " 0.         0.         0.         0.         0.         0.\n",
      " 0.         0.         0.         0.         0.         0.\n",
      " 0.         0.         0.         0.         0.         0.\n",
      " 0.         0.         0.         0.         0.         0.\n",
      " 0.         0.         0.         0.        ] \n",
      "\n",
      "Dependent Variable:\n",
      " 5\n"
     ]
    }
   ],
   "source": [
    "X = mnist.data.reshape(-1, 28 * 28).astype(np.float32) / 255.0\n",
    "Y = mnist.target\n",
    "\n",
    "print(\"\\nIndependent Variable:\\n\\nOriginal:\\n\", mnist.data[0], \"\\nScaled:\\n\", X[0], \"\\n\\nDependent Variable:\\n\", Y[0])"
   ]
  },
  {
   "cell_type": "raw",
   "id": "be98f457-2739-4c76-b049-60a46138bfae",
   "metadata": {},
   "source": []
  },
  {
   "cell_type": "markdown",
   "id": "81c39324-0584-432b-b035-f63696c6f15d",
   "metadata": {},
   "source": [
    "#### Splitting into train, validation and test samples"
   ]
  },
  {
   "cell_type": "markdown",
   "id": "5f8d9dad-ede9-4e05-b14e-e12aad02de7b",
   "metadata": {},
   "source": [
    "We will split data in train, validation and testing samples in ration 70:15:15 resp. We will train model with training dataset, use validation samples to evaluate model perfomrmance and test data to test model."
   ]
  },
  {
   "cell_type": "code",
   "execution_count": 10,
   "id": "11d9cbfc-8455-41c2-8ab4-d51427e3f209",
   "metadata": {},
   "outputs": [
    {
     "data": {
      "text/plain": [
       "((49000, 784), (49000,), (10500, 784), (10500,), (10500, 784), (10500,))"
      ]
     },
     "execution_count": 10,
     "metadata": {},
     "output_type": "execute_result"
    }
   ],
   "source": [
    "X_train, X_temp, Y_train, Y_temp = train_test_split(X, Y, test_size=0.3, stratify=Y, random_state= 40)\n",
    "X_val, X_test, Y_val, Y_test = train_test_split(X_temp, Y_temp, test_size=0.5, stratify=Y_temp, random_state= 40)\n",
    "\n",
    "X_train.shape, Y_train.shape, X_val.shape, Y_val.shape, X_test.shape, Y_test.shape"
   ]
  },
  {
   "cell_type": "markdown",
   "id": "3a9de3aa-8812-4f93-ba4b-4081061021d0",
   "metadata": {},
   "source": [
    "Here we have use startify=Y and stratify = Y_temp to make sure created samples have equal distribution of independent variables"
   ]
  },
  {
   "cell_type": "raw",
   "id": "0f050ad3-9855-4bb5-b4de-e9ed325507db",
   "metadata": {},
   "source": []
  },
  {
   "cell_type": "markdown",
   "id": "f1d35407-8286-4b56-ac2c-00a5f65bb8d8",
   "metadata": {},
   "source": [
    "## Creating a Classifier Model"
   ]
  },
  {
   "cell_type": "markdown",
   "id": "70fcd127-70d8-42e8-a8d1-7d3e53e3871b",
   "metadata": {},
   "source": [
    "For the perpose of this lab we will be picking SVC model from Kaggle: [MNIST-Simple-ML](https://www.kaggle.com/code/metamadyeth/mnist-simple-ml)"
   ]
  },
  {
   "cell_type": "markdown",
   "id": "025e4415-77fc-4135-b588-ed61e1249342",
   "metadata": {},
   "source": [
    "> NOTE: Had to add \"probability=True\" to that model as it was a requiremnt for creating precision-recall curve"
   ]
  },
  {
   "cell_type": "code",
   "execution_count": null,
   "id": "6cf2847b-cbc3-4305-ad87-70b398dab269",
   "metadata": {},
   "outputs": [],
   "source": [
    "# Creating SVC Model\n",
    "classifier = SVC(probability=True)\n",
    "# Fitting data to model\n",
    "classifier.fit(X_train, Y_train)"
   ]
  },
  {
   "cell_type": "markdown",
   "id": "71d6e97f-7c33-44b7-ad6b-6b8f3fa9f2ed",
   "metadata": {},
   "source": [
    "#### Reason for picking SVC over SVM"
   ]
  },
  {
   "cell_type": "markdown",
   "id": "92bec23c-4ffb-45de-b888-286d3d2150fb",
   "metadata": {},
   "source": [
    "Both SVM and SVC are good at accurately classifying data, especially when it's easy to tell classes apart. SVC is a bit faster for classification tasks because it's made just for that."
   ]
  },
  {
   "cell_type": "raw",
   "id": "4881bcdd-51db-4e6f-ac96-c351a182ab96",
   "metadata": {},
   "source": []
  },
  {
   "cell_type": "markdown",
   "id": "b04b12c4-18c6-47a2-beba-b1f1c21d70cc",
   "metadata": {},
   "source": [
    "## Evaluation of Classifier"
   ]
  },
  {
   "cell_type": "code",
   "execution_count": null,
   "id": "dd28eae2-de2b-4026-91a1-48fbbecc2a9f",
   "metadata": {},
   "outputs": [],
   "source": [
    "# Predicting output for all validation values\n",
    "Y_pred = classifier.predict(X_val)"
   ]
  },
  {
   "cell_type": "code",
   "execution_count": 13,
   "id": "0d29d9bc-6f19-4473-ad3c-bda60c5e86e4",
   "metadata": {},
   "outputs": [
    {
     "data": {
      "text/plain": [
       "(array(['0', '6', '8', '0', '0', '7', '5', '3', '1', '5'], dtype=object),\n",
       " array(['0', '6', '8', '0', '0', '7', '5', '8', '1', '5'], dtype=object))"
      ]
     },
     "execution_count": 13,
     "metadata": {},
     "output_type": "execute_result"
    }
   ],
   "source": [
    "# Checking prediction for first 10 values\n",
    "Y_pred[:10], Y_val[:10]"
   ]
  },
  {
   "cell_type": "markdown",
   "id": "10526305-9f41-43f7-a9e9-1953caf2719a",
   "metadata": {},
   "source": [
    "> It can be seen that out model got 9/10 values right. That means it is 90% accurate and is a good model for out current usecase. Let's check it's performance further."
   ]
  },
  {
   "cell_type": "raw",
   "id": "07bf475f-9f18-4349-859d-364716affc56",
   "metadata": {},
   "source": []
  },
  {
   "cell_type": "markdown",
   "id": "8d60193d-ad60-4484-a056-ebee2338b7c3",
   "metadata": {},
   "source": [
    "### Checking classifier's performance"
   ]
  },
  {
   "cell_type": "markdown",
   "id": "f5261de7-3703-4b78-8e35-c83cb150f33e",
   "metadata": {},
   "source": [
    "#### Accuracy of classifier"
   ]
  },
  {
   "cell_type": "code",
   "execution_count": 14,
   "id": "cbdd6533-14e5-4183-99f6-210000ece864",
   "metadata": {},
   "outputs": [
    {
     "name": "stdout",
     "output_type": "stream",
     "text": [
      "Accuracy of classifier: 0.977047619047619\n"
     ]
    }
   ],
   "source": [
    "accuracy = accuracy_score(Y_val, Y_pred)\n",
    "print(\"Accuracy of classifier:\", accuracy)"
   ]
  },
  {
   "cell_type": "raw",
   "id": "34f9a983-66fb-45f0-a9d0-193f7bf88cbe",
   "metadata": {},
   "source": []
  },
  {
   "cell_type": "markdown",
   "id": "f0c87a29-f055-4014-bd0b-4f59a30e931b",
   "metadata": {},
   "source": [
    "#### Confusion matrix"
   ]
  },
  {
   "cell_type": "code",
   "execution_count": 15,
   "id": "d4ba4873-2285-467e-8d30-3c5f6a081c2d",
   "metadata": {},
   "outputs": [
    {
     "data": {
      "text/plain": [
       "<Axes: >"
      ]
     },
     "execution_count": 15,
     "metadata": {},
     "output_type": "execute_result"
    },
    {
     "data": {
      "image/png": "[encoded data removed]",
      "text/plain": [
       "<Figure size 800x600 with 2 Axes>"
      ]
     },
     "metadata": {},
     "output_type": "display_data"
    }
   ],
   "source": [
    "# Creating a confusion matrix\n",
    "pred_cf_mat = confusion_matrix(Y_val, Y_pred)\n",
    "\n",
    "#Plotting the confusion matrix\n",
    "plt.figure(figsize=(8, 6))\n",
    "sns.heatmap(pred_cf_mat, annot=True, fmt=\"d\",\n",
    "            xticklabels=np.unique(Y_val), yticklabels=np.unique(Y_val))"
   ]
  },
  {
   "cell_type": "raw",
   "id": "166645ba-d08d-45f4-a9ba-269e6d7a9dd1",
   "metadata": {},
   "source": []
  },
  {
   "cell_type": "markdown",
   "id": "14d9a642-ac85-4f91-9883-f512fecb93d1",
   "metadata": {},
   "source": [
    "#### Precision, recall and F1 for each class of Validation Set"
   ]
  },
  {
   "cell_type": "code",
   "execution_count": 16,
   "id": "566277a3-0b51-4443-801c-ac7e8cd1cca3",
   "metadata": {},
   "outputs": [
    {
     "name": "stdout",
     "output_type": "stream",
     "text": [
      "              precision    recall  f1-score   support\n",
      "\n",
      "           0       0.98      1.00      0.99      1035\n",
      "           1       0.99      0.99      0.99      1182\n",
      "           2       0.98      0.98      0.98      1049\n",
      "           3       0.97      0.97      0.97      1071\n",
      "           4       0.96      0.98      0.97      1023\n",
      "           5       0.97      0.97      0.97       947\n",
      "           6       0.98      0.99      0.99      1031\n",
      "           7       0.97      0.98      0.97      1094\n",
      "           8       0.98      0.97      0.97      1024\n",
      "           9       0.98      0.95      0.97      1044\n",
      "\n",
      "    accuracy                           0.98     10500\n",
      "   macro avg       0.98      0.98      0.98     10500\n",
      "weighted avg       0.98      0.98      0.98     10500\n",
      "\n"
     ]
    }
   ],
   "source": [
    "clf_report = classification_report(Y_val, Y_pred)\n",
    "\n",
    "print(clf_report)"
   ]
  },
  {
   "cell_type": "code",
   "execution_count": null,
   "id": "78f5f418-b468-493b-a731-679d7a1ef30f",
   "metadata": {},
   "outputs": [],
   "source": []
  },
  {
   "cell_type": "markdown",
   "id": "4286c0ab-9490-4db9-b813-3402e3061d39",
   "metadata": {},
   "source": [
    "## Precision-recall curve for one class of your choice vs. all other"
   ]
  },
  {
   "cell_type": "markdown",
   "id": "489e7a2f-474f-401d-940a-f6203d905792",
   "metadata": {},
   "source": [
    "> I'll be picking class 5"
   ]
  },
  {
   "cell_type": "code",
   "execution_count": null,
   "id": "f5760524-5b5a-47e5-a1ef-8aa9a52d8819",
   "metadata": {},
   "outputs": [],
   "source": [
    "Y_pred_proba = classifier.predict_proba(X_val)[:, 5]\n",
    "\n",
    "precision, recall, thresholds = precision_recall_curve(Y_val == 5, Y_pred_proba)\n",
    "average_precision = average_precision_score(Y_val == 5, Y_pred_proba)\n",
    "\n",
    "precision, recall, average_precision"
   ]
  },
  {
   "cell_type": "code",
   "execution_count": 17,
   "id": "a64138fd-04f1-48c3-905b-8b1f6c5281ad",
   "metadata": {},
   "outputs": [],
   "source": [
    "# # convert the labels into binary for the precision-recall curve\n",
    "# Y_val_bin = label_binarize(Y_val, classes=[0, 1, 2, 3, 4, 5, 6, 7, 8, 9])\n",
    "\n",
    "# # Initialize the figure\n",
    "# plt.figure(figsize=(10, 8))\n",
    "\n",
    "# # Loop over each class and plot the precision-recall curve\n",
    "# precision, recall, _ = precision_recall_curve(Y_val_bin[:, 5], classifier.decision_function(X_val)[:, 5])\n",
    "# area_under_curve = auc(recall, precision)\n",
    "    \n",
    "# # Plot the precision-recall curve for each class\n",
    "# plt.plot(recall, precision, label=f'Class {5} (AUC = {area_under_curve:.2f})', linewidth=2)\n",
    "\n",
    "# # Add plot styling\n",
    "# plt.xlabel('Recall')\n",
    "# plt.ylabel('Precision')\n",
    "# plt.title('Precision-Recall Curve for Classe 5 vs Classes 0-9')\n",
    "# plt.grid(True)\n",
    "# plt.legend(loc='best')\n",
    "\n",
    "# # Show the plot\n",
    "# plt.show()"
   ]
  },
  {
   "cell_type": "raw",
   "id": "0672e52c-74a6-44e2-9e2e-c68851bf745d",
   "metadata": {},
   "source": []
  },
  {
   "cell_type": "markdown",
   "id": "1134d31b-fe88-49c3-9a6f-6fa8b323113d",
   "metadata": {},
   "source": [
    "#### Increasing precision and recall of choosen class without retraining the model"
   ]
  },
  {
   "cell_type": "markdown",
   "id": "1ab43c05-2f41-4dd2-8e9f-6883510bdf3d",
   "metadata": {},
   "source": [
    "To increase precision for a chosen class without retraining the model, you can adjust the decision threshold for class prediction. By increasing the threshold, you'll be more conservative in classifying samples as belonging to the positive class, which can lead to higher precision. Let's demonstrate this with a numeric Python example using the validation data and the model."
   ]
  },
  {
   "cell_type": "code",
   "execution_count": 19,
   "id": "0f0f9875-2fcd-40a3-8450-638ff4eb6dd0",
   "metadata": {},
   "outputs": [
    {
     "ename": "NameError",
     "evalue": "name 'precision_score' is not defined",
     "output_type": "error",
     "traceback": [
      "\u001b[1;31m---------------------------------------------------------------------------\u001b[0m",
      "\u001b[1;31mNameError\u001b[0m                                 Traceback (most recent call last)",
      "Cell \u001b[1;32mIn[19], line 12\u001b[0m\n\u001b[0;32m      9\u001b[0m Y_pred_class_5_new \u001b[38;5;241m=\u001b[39m (Y_pred_prob[:, class_index] \u001b[38;5;241m>\u001b[39m new_threshold)\u001b[38;5;241m.\u001b[39mastype(\u001b[38;5;28mint\u001b[39m)\n\u001b[0;32m     11\u001b[0m \u001b[38;5;66;03m# Evaluate the new predictions\u001b[39;00m\n\u001b[1;32m---> 12\u001b[0m new_precision \u001b[38;5;241m=\u001b[39m \u001b[43mprecision_score\u001b[49m(Y_val \u001b[38;5;241m==\u001b[39m class_index, Y_pred_class_5_new)\n\u001b[0;32m     13\u001b[0m new_recall \u001b[38;5;241m=\u001b[39m recall_score(Y_val \u001b[38;5;241m==\u001b[39m class_index, Y_pred_class_5_new)\n\u001b[0;32m     15\u001b[0m \u001b[38;5;28mprint\u001b[39m(\u001b[38;5;124m\"\u001b[39m\u001b[38;5;124mNew Precision:\u001b[39m\u001b[38;5;124m\"\u001b[39m, new_precision)\n",
      "\u001b[1;31mNameError\u001b[0m: name 'precision_score' is not defined"
     ]
    }
   ],
   "source": [
    "# Assuming you want to adjust the decision threshold for class 5\n",
    "class_index = 5\n",
    "\n",
    "# Get the predicted probabilities for each class\n",
    "Y_pred_prob = classifier.decision_function(X_val)\n",
    "\n",
    "# Adjust the decision threshold\n",
    "new_threshold = 0.7\n",
    "Y_pred_class_5_new = (Y_pred_prob[:, class_index] > new_threshold).astype(int)\n",
    "\n",
    "# Evaluate the new predictions\n",
    "new_precision = precision_score(Y_val == class_index, Y_pred_class_5_new)\n",
    "new_recall = recall_score(Y_val == class_index, Y_pred_class_5_new)\n",
    "\n",
    "print(\"New Precision:\", new_precision)\n",
    "print(\"New Recall:\", new_recall)"
   ]
  },
  {
   "cell_type": "raw",
   "id": "0d35f4a7-980f-4eae-9c5b-57216cca2e28",
   "metadata": {},
   "source": []
  },
  {
   "cell_type": "markdown",
   "id": "c5bdcd8b-33ec-4c5f-b3b0-c441926aa33f",
   "metadata": {},
   "source": [
    "To increase recall for a chosen class without retraining, you can decrease the decision threshold. This will lead to more positive predictions, potentially increasing recall at the cost of precision. Here's how you can adjust the decision threshold for your SVM classifier:"
   ]
  },
  {
   "cell_type": "code",
   "execution_count": null,
   "id": "f75a6b1b-8639-4ee5-af6b-56ed4abb5bf1",
   "metadata": {},
   "outputs": [],
   "source": [
    "# Assuming you want to adjust the decision threshold for class 7\n",
    "class_index = 7\n",
    "\n",
    "# Get the predicted probabilities for each class\n",
    "Y_pred_prob = classifier.decision_function(X_val)\n",
    "\n",
    "# Adjust the decision threshold\n",
    "new_threshold = 0.3\n",
    "Y_pred_class_7_new = (Y_pred_prob[:, class_index] > new_threshold).astype(int)\n",
    "\n",
    "# Evaluate the new predictions\n",
    "new_precision = precision_score(Y_val == class_index, Y_pred_class_7_new)\n",
    "new_recall = recall_score(Y_val == class_index, Y_pred_class_7_new)\n",
    "\n",
    "print(\"New Precision:\", new_precision)\n",
    "print(\"New Recall:\", new_recall)"
   ]
  },
  {
   "cell_type": "raw",
   "id": "81e6f45a-4ec8-4df4-bbab-50e90e279583",
   "metadata": {},
   "source": []
  },
  {
   "cell_type": "markdown",
   "id": "8e6d74d5-d81c-46fd-aa49-fa9291c5fb2f",
   "metadata": {},
   "source": [
    "#### Testing on test data"
   ]
  },
  {
   "cell_type": "code",
   "execution_count": null,
   "id": "4d97c4f7-9f59-4201-bd58-cf4327447619",
   "metadata": {},
   "outputs": [],
   "source": [
    "Y_test_pred = classifier.predict(X_test)\n",
    "\n",
    "test_accuracy = accuracy_score(Y_test, Y_test_pred)\n",
    "print(\"\\nAccuracy on test data:\", test_accuracy)"
   ]
  },
  {
   "cell_type": "code",
   "execution_count": null,
   "id": "438f9ee0-4716-4598-b606-2a2133cd2e7d",
   "metadata": {},
   "outputs": [],
   "source": [
    "clf_report_test = classification_report(Y_test, Y_test_pred, target_names=[0, 1, 2, 3, 4, 5, 6, 7, 8, 9])\n",
    "print(\"\\nClassification Report on test data:\\n\", clf_report_test)"
   ]
  },
  {
   "cell_type": "markdown",
   "id": "6a468124-ed20-4f02-8c8c-f843afe262ae",
   "metadata": {},
   "source": [
    "#### Classifier insight for test data"
   ]
  },
  {
   "cell_type": "code",
   "execution_count": null,
   "id": "9380ae32-4b9f-43f1-9b42-bc009c8fcfec",
   "metadata": {},
   "outputs": [],
   "source": []
  },
  {
   "cell_type": "code",
   "execution_count": null,
   "id": "168e70c5-518c-48c5-84f5-aac89232ebba",
   "metadata": {},
   "outputs": [],
   "source": []
  },
  {
   "cell_type": "markdown",
   "id": "2666048f-1a13-4155-b56a-631d99fff488",
   "metadata": {},
   "source": [
    "#### Classifier model insight "
   ]
  },
  {
   "cell_type": "code",
   "execution_count": null,
   "id": "0b07fa36-167c-4ab5-885c-ef79a073b945",
   "metadata": {},
   "outputs": [],
   "source": []
  }
 ],
 "metadata": {
  "kernelspec": {
   "display_name": "Python 3 (ipykernel)",
   "language": "python",
   "name": "python3"
  },
  "language_info": {
   "codemirror_mode": {
    "name": "ipython",
    "version": 3
   },
   "file_extension": ".py",
   "mimetype": "text/x-python",
   "name": "python",
   "nbconvert_exporter": "python",
   "pygments_lexer": "ipython3",
   "version": "3.10.11"
  }
 },
 "nbformat": 4,
 "nbformat_minor": 5
}
